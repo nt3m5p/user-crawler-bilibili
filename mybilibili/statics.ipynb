{
 "cells": [
  {
   "cell_type": "code",
   "execution_count": 1,
   "metadata": {},
   "outputs": [
    {
     "name": "stdout",
     "output_type": "stream",
     "text": [
      "3078994\n"
     ]
    }
   ],
   "source": [
    "import pymysql\n",
    "\n",
    "conn = pymysql.connect(\n",
    "        host=\"localhost\", user=\"root\", passwd=\"password\", db=\"mybilibili\", charset=\"utf8\")\n",
    "cur = conn.cursor()\n",
    "sql = \"select count(*) from bilibili_user_info\"\n",
    "cur.execute(sql)\n",
    "\n",
    "\n",
    "results = cur.fetchall()[0][0]\n",
    "print(results)\n"
   ]
  },
  {
   "cell_type": "code",
   "execution_count": 3,
   "metadata": {},
   "outputs": [
    {
     "name": "stdout",
     "output_type": "stream",
     "text": [
      "100000-200000 : 77578/100000\n",
      "200000-300000 : 83853/100000\n",
      "300000-400000 : 89939/100000\n",
      "400000-500000 : 86742/100000\n",
      "500000-600000 : 91615/100000\n",
      "600000-700000 : 93231/100000\n",
      "700000-800000 : 69110/100000\n",
      "800000-900000 : 84356/100000\n",
      "900000-1000000 : 53640/100000\n",
      "1000000-1100000 : 624/100000\n",
      "1100000-1200000 : 4776/100000\n",
      "1200000-1300000 : 30116/100000\n",
      "1300000-1400000 : 90821/100000\n",
      "1400000-1500000 : 92301/100000\n",
      "1500000-1600000 : 99977/100000\n",
      "1600000-1700000 : 99980/100000\n",
      "1700000-1800000 : 99971/100000\n",
      "1800000-1900000 : 99890/100000\n",
      "1900000-2000000 : 99924/100000\n",
      "2000000-2100000 : 99968/100000\n",
      "2100000-2200000 : 99961/100000\n",
      "2200000-2300000 : 99955/100000\n",
      "2300000-2400000 : 99944/100000\n",
      "2400000-2500000 : 99946/100000\n",
      "2500000-2600000 : 99959/100000\n",
      "2600000-2700000 : 99969/100000\n",
      "2700000-2800000 : 99956/100000\n",
      "2800000-2900000 : 99959/100000\n",
      "2900000-3000000 : 99972/100000\n",
      "3000000-3100000 : 99954/100000\n",
      "3100000-3200000 : 99949/100000\n",
      "3200000-3300000 : 99952/100000\n",
      "3300000-3400000 : 99955/100000\n",
      "3400000-3500000 : 99953/100000\n",
      "3500000-3600000 : 44983/100000\n",
      "3600000-3700000 : 0/100000\n",
      "3700000-3800000 : 0/100000\n",
      "3800000-3900000 : 0/100000\n",
      "3900000-4000000 : 0/100000\n",
      "4000000-4100000 : 0/100000\n",
      "4100000-4200000 : 0/100000\n",
      "4200000-4300000 : 0/100000\n",
      "4300000-4400000 : 0/100000\n",
      "4400000-4500000 : 0/100000\n",
      "4500000-4600000 : 0/100000\n",
      "4600000-4700000 : 0/100000\n",
      "4700000-4800000 : 0/100000\n",
      "4800000-4900000 : 0/100000\n",
      "4900000-5000000 : 0/100000\n"
     ]
    }
   ],
   "source": [
    "start = 0\n",
    "stride = 100000\n",
    "for start in range(1,50):\n",
    "    sql = \"select count(*) from bilibili_user_info where  %s < mid and mid < %s \" % (\n",
    "        start*stride, (start+1) * stride)\n",
    "    cur.execute(sql)\n",
    "    results = cur.fetchall()[0][0]\n",
    "    print(\"%s-%s : %s/%s\" %\n",
    "                    (start*stride, (start+1)*stride, results, stride))"
   ]
  },
  {
   "cell_type": "code",
   "execution_count": null,
   "metadata": {},
   "outputs": [],
   "source": []
  },
  {
   "cell_type": "code",
   "execution_count": null,
   "metadata": {},
   "outputs": [],
   "source": []
  },
  {
   "cell_type": "code",
   "execution_count": null,
   "metadata": {},
   "outputs": [],
   "source": []
  },
  {
   "cell_type": "code",
   "execution_count": null,
   "metadata": {},
   "outputs": [],
   "source": []
  },
  {
   "cell_type": "code",
   "execution_count": null,
   "metadata": {},
   "outputs": [],
   "source": []
  }
 ],
 "metadata": {
  "file_extension": ".py",
  "kernelspec": {
   "display_name": "Python 3.7.5 64-bit",
   "language": "python",
   "name": "python37564bit77e668c0a7e54c128c497103ab3079c4"
  },
  "language_info": {
   "codemirror_mode": {
    "name": "ipython",
    "version": 3
   },
   "file_extension": ".py",
   "mimetype": "text/x-python",
   "name": "python",
   "nbconvert_exporter": "python",
   "pygments_lexer": "ipython3",
   "version": "3.7.6"
  },
  "mimetype": "text/x-python",
  "name": "python",
  "npconvert_exporter": "python",
  "pygments_lexer": "ipython3",
  "version": 3
 },
 "nbformat": 4,
 "nbformat_minor": 2
}
